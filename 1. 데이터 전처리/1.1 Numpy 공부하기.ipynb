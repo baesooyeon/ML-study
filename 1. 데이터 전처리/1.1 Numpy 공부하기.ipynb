{
 "cells": [
  {
   "cell_type": "code",
   "execution_count": 1,
   "id": "2b3b1c56",
   "metadata": {},
   "outputs": [],
   "source": [
    "import numpy as np"
   ]
  },
  {
   "cell_type": "code",
   "execution_count": 3,
   "id": "59d9ff37",
   "metadata": {},
   "outputs": [],
   "source": [
    "array1d = np.array([1,2,3])\n",
    "array2d = np.array([[1,2,3],[4,5,6]])"
   ]
  },
  {
   "cell_type": "code",
   "execution_count": 5,
   "id": "3e03fb87",
   "metadata": {},
   "outputs": [
    {
     "data": {
      "text/plain": [
       "array([1, 2, 3])"
      ]
     },
     "execution_count": 5,
     "metadata": {},
     "output_type": "execute_result"
    }
   ],
   "source": [
    "array1d"
   ]
  },
  {
   "cell_type": "markdown",
   "id": "4af664ea",
   "metadata": {},
   "source": [
    "### ndarray 타입(type)\n",
    "- ndarray내의 데이터값은 숫자 값, 문자열 값, 불리언 값 등이 모두 가능합니다.\n",
    "- 숫자형의 경우 int(8bit, 16bit, 32bit), unsigned int형(8bit, 16bit, 24bit), float형(16bit, 32bit, 64bit...), 그리고 이보다 더 큰 숫자값이나 정밀도를 위해 complex타입도 제공합니다.\n",
    "- nadarray내의 데이터 타입은 그 연산의 특성상 같은 데이터 타입만 가능합니다.(즉, 한개의 ndarray객체에 int와 float가 같이 있을 수 없다.)\n",
    "- naarray내의 데이터 타입은 ndarray.dtype으로 확인할 수 있다."
   ]
  },
  {
   "cell_type": "code",
   "execution_count": 7,
   "id": "c5470a22",
   "metadata": {
    "scrolled": true
   },
   "outputs": [
    {
     "name": "stdout",
     "output_type": "stream",
     "text": [
      "array1d shape :  (3,)\n",
      "array2d.shape :  (2, 3)\n"
     ]
    }
   ],
   "source": [
    "### 형태 : shape\n",
    "print(\"array1d shape : \",array1d.shape)  ## 1차원\n",
    "print(\"array2d.shape : \",array2d.shape)  ## 2차원"
   ]
  },
  {
   "cell_type": "code",
   "execution_count": 8,
   "id": "6ac084db",
   "metadata": {},
   "outputs": [
    {
     "name": "stdout",
     "output_type": "stream",
     "text": [
      "array1d.ndim :  1\n",
      "array2d.ndim :  2\n"
     ]
    }
   ],
   "source": [
    "### 차원\n",
    "print(\"array1d.ndim : \", array1d.ndim)\n",
    "print(\"array2d.ndim : \", array2d.ndim)"
   ]
  },
  {
   "cell_type": "code",
   "execution_count": 11,
   "id": "9d1173a3",
   "metadata": {},
   "outputs": [
    {
     "name": "stdout",
     "output_type": "stream",
     "text": [
      "list1의 타입 : <class 'list'>\n",
      "array1의 타입 : <class 'numpy.ndarray'>\n",
      "array1.dytpe : int32\n"
     ]
    }
   ],
   "source": [
    "list1 = [1,2,3]\n",
    "print(\"list1의 타입 : {}\".format(type(list1)))\n",
    "array1 = np.array(list1)\n",
    "print(\"array1의 타입 : {}\".format(type(array1)))\n",
    "print(\"array1.dytpe : {}\".format(array1.dtype))"
   ]
  },
  {
   "cell_type": "markdown",
   "id": "8ea53a08",
   "metadata": {},
   "source": [
    " ### ndarray타입(type)변환\n",
    " - 변경을 원하는 타입을 astype()에 인자로 입력 (ex : array1d.astype(\"int32\"))\n",
    " - 대용량 데이터를 ndarray로 만들 때 메모리를 절약하기 위해 자주 사용 >> 대용량 데이터를 다룰 시 메모리 절약을 위해서 형변환을 특히 고려해야함."
   ]
  },
  {
   "cell_type": "code",
   "execution_count": 16,
   "id": "bd2ea7e3",
   "metadata": {},
   "outputs": [
    {
     "name": "stdout",
     "output_type": "stream",
     "text": [
      "array_int1의 타입 : int32\n",
      "array_float1의 타입 : float64\n"
     ]
    }
   ],
   "source": [
    "array_int = np.array([1,2,3])\n",
    "array_float = array_int.astype(\"float32\")\n",
    "\n",
    "array_int1 = array_float.astype(np.int32)\n",
    "print(\"array_int1의 타입 : {}\".format(array_int1.dtype))\n",
    "\n",
    "array_float1 = np.array([1.1, 1.2 ,3.1])\n",
    "array_int1 = array_float1.astype(\"int32\")\n",
    "print(\"array_float1의 타입 : {}\".format(array_float1.dtype))"
   ]
  },
  {
   "cell_type": "markdown",
   "id": "2dbd0ee1",
   "metadata": {},
   "source": [
    "### ndarray를 편리하게 생성하기 - arange, zeros, ones\n",
    "- 특정 크기와 차원을 가진 ndarray를 연속값이나 0 또는 1로 초기화 생성해야 할 경우 arange(), zeros(), ones()를 이용해 쉽게 ndarray를 생성할 수 있습니다. 주로 **테스트용으로 데이터를 만들거나** 데이터를 일괄적으로 **초기화**해야 할 경우에 사용됩니다."
   ]
  },
  {
   "cell_type": "code",
   "execution_count": 31,
   "id": "ca80d61b",
   "metadata": {},
   "outputs": [
    {
     "name": "stdout",
     "output_type": "stream",
     "text": [
      "np.arange(10) : [0 1 2 3 4 5 6 7 8 9]\n",
      "\n",
      "np.zeros((3,2), dtype = 'int32' :\n",
      " [[0 0]\n",
      " [0 0]\n",
      " [0 0]]\n",
      "\n",
      "np.ones((3,2)) :\n",
      " [[1. 1.]\n",
      " [1. 1.]\n",
      " [1. 1.]]\n",
      "\n"
     ]
    }
   ],
   "source": [
    "print(\"np.arange(10) : {}\\n\".format(np.arange(10)))\n",
    "print(\"np.zeros((3,2), dtype = 'int32' :\\n {}\\n\".format(np.zeros((3,2), dtype = 'int32')))\n",
    "print(\"np.ones((3,2)) :\\n {}\\n\".format(np.ones((3,2))))   ### dtype의 default는 float이다."
   ]
  },
  {
   "cell_type": "markdown",
   "id": "73850b81",
   "metadata": {},
   "source": [
    "##### 실습"
   ]
  },
  {
   "cell_type": "code",
   "execution_count": 32,
   "id": "61f67396",
   "metadata": {},
   "outputs": [
    {
     "name": "stdout",
     "output_type": "stream",
     "text": [
      "[0 1 2 3 4 5 6 7 8 9]\n",
      "int32 (10,)\n"
     ]
    }
   ],
   "source": [
    "### np.arange()\n",
    "sequence_array = np.arange(10)\n",
    "print(sequence_array)\n",
    "print(sequence_array.dtype, sequence_array.shape)"
   ]
  },
  {
   "cell_type": "code",
   "execution_count": 37,
   "id": "218c5034",
   "metadata": {},
   "outputs": [
    {
     "name": "stdout",
     "output_type": "stream",
     "text": [
      "[[0 0]\n",
      " [0 0]\n",
      " [0 0]]\n",
      "int32 (3, 2) \n",
      "\n",
      "[[1. 1.]\n",
      " [1. 1.]\n",
      " [1. 1.]]\n",
      "float64 (3, 2)\n"
     ]
    }
   ],
   "source": [
    "### np.zeros\n",
    "zero_array = np.zeros((3,2), dtype = np.int32)\n",
    "print(zero_array)\n",
    "print(zero_array.dtype, zero_array.shape,'\\n')\n",
    "\n",
    "### np.ones\n",
    "ones_array = np.ones((3,2), dtype = np.float64)\n",
    "print(ones_array)\n",
    "print(ones_array.dtype, ones_array.shape)"
   ]
  },
  {
   "cell_type": "markdown",
   "id": "c8e48cf5",
   "metadata": {},
   "source": [
    "### ndarray의 차원과 크기를 변경하는 reshape()\n",
    "- reshape()는 ndarray를 특정 차원 및 형태로 변환합니다. 변환 형태를 함수 인자로 부여하면 됩니다.\n",
    "- reshape(-1,5)와 같이 인자에 -1을 부여하면 -1에 해당하는 axis의 크기는 가변적이되 -1이 아닌 인자값(여기서는 5)에 해당하는 axis 크기는 인자값으로 고정하여 ndarray의 shape를 변환합니다.(ex : 크기가 (10,)인 경우 reshape(-1,5) > (2,5)의 크기가 됨/ 크기가 (15,)인 경우 (3,5)가 됨./ 5로 나눠떨어지지 않으면 오류가 발생한다.)\n",
    "- reshape(-1,1)과 reshape(-1,)\n",
    "    - reshape(-1,1) : 2차원으로 변환하되 컬럼 axis 크기가 1로 고정 >> ([0,1,2,3,4] -> [[0], [1], [2], [3], [4]])\n",
    "    - reshape(-1,) : 1차원으로 변환 >> ([[0], [1], [2], [3], [4]] -> [0,1,2,3,4])"
   ]
  },
  {
   "cell_type": "markdown",
   "id": "787d19c7",
   "metadata": {},
   "source": [
    "##### 실습"
   ]
  },
  {
   "cell_type": "code",
   "execution_count": 41,
   "id": "ca2b7502",
   "metadata": {},
   "outputs": [
    {
     "name": "stdout",
     "output_type": "stream",
     "text": [
      "array1 :  [0 1 2 3 4 5 6 7 8 9]\n",
      "array2 :\n",
      " [[0 1 2 3 4]\n",
      " [5 6 7 8 9]]\n",
      "array3 :\n",
      " [[0 1]\n",
      " [2 3]\n",
      " [4 5]\n",
      " [6 7]\n",
      " [8 9]]\n"
     ]
    }
   ],
   "source": [
    "### reshape 해주기\n",
    "array1 = np.arange(10)\n",
    "print(\"array1 : \",array1)\n",
    "\n",
    "# (2,5) shape로 변환\n",
    "array2 = array1.reshape(2,5)\n",
    "print(\"array2 :\\n\", array2)\n",
    "\n",
    "# (5,2) shape로 변환\n",
    "array3 = array1.reshape(5,2)\n",
    "print(\"array3 :\\n\", array3)"
   ]
  },
  {
   "cell_type": "code",
   "execution_count": 43,
   "id": "836b3799",
   "metadata": {},
   "outputs": [
    {
     "ename": "ValueError",
     "evalue": "cannot reshape array of size 10 into shape (4,3)",
     "output_type": "error",
     "traceback": [
      "\u001b[1;31m---------------------------------------------------------------------------\u001b[0m",
      "\u001b[1;31mValueError\u001b[0m                                Traceback (most recent call last)",
      "\u001b[1;32m<ipython-input-43-3814b7060312>\u001b[0m in \u001b[0;36m<module>\u001b[1;34m\u001b[0m\n\u001b[0;32m      1\u001b[0m \u001b[1;31m### (4,3)같은 경우는 바뀔 수 없음\u001b[0m\u001b[1;33m\u001b[0m\u001b[1;33m\u001b[0m\u001b[1;33m\u001b[0m\u001b[0m\n\u001b[1;32m----> 2\u001b[1;33m \u001b[0marray1\u001b[0m\u001b[1;33m.\u001b[0m\u001b[0mreshape\u001b[0m\u001b[1;33m(\u001b[0m\u001b[1;36m4\u001b[0m\u001b[1;33m,\u001b[0m\u001b[1;36m3\u001b[0m\u001b[1;33m)\u001b[0m\u001b[1;33m\u001b[0m\u001b[1;33m\u001b[0m\u001b[0m\n\u001b[0m",
      "\u001b[1;31mValueError\u001b[0m: cannot reshape array of size 10 into shape (4,3)"
     ]
    }
   ],
   "source": [
    "### (4,3)같은 경우는 바뀔 수 없음\n",
    "array1.reshape(4,3)"
   ]
  },
  {
   "cell_type": "code",
   "execution_count": 47,
   "id": "0b5204c0",
   "metadata": {},
   "outputs": [
    {
     "name": "stdout",
     "output_type": "stream",
     "text": [
      "array1 :  [0 1 2 3 4 5 6 7 8 9]\n",
      "array2.shape(-1,5) : (2, 5)\n",
      "array3.shape(2,-1) : (2, 5)\n"
     ]
    }
   ],
   "source": [
    "### reshape의 -1\n",
    "print(\"array1 : \", array1)\n",
    "\n",
    "array2 = array1.reshape(-1,5)\n",
    "print(\"array2.shape(-1,5) : {}\".format(array2.shape))\n",
    "\n",
    "array3 = array1.reshape(2,-1)\n",
    "print(\"array3.shape(2,-1) : {}\".format(array3.shape))"
   ]
  },
  {
   "cell_type": "code",
   "execution_count": 48,
   "id": "806f4434",
   "metadata": {},
   "outputs": [
    {
     "ename": "ValueError",
     "evalue": "cannot reshape array of size 10 into shape (4)",
     "output_type": "error",
     "traceback": [
      "\u001b[1;31m---------------------------------------------------------------------------\u001b[0m",
      "\u001b[1;31mValueError\u001b[0m                                Traceback (most recent call last)",
      "\u001b[1;32m<ipython-input-48-f0cd325abca2>\u001b[0m in \u001b[0;36m<module>\u001b[1;34m\u001b[0m\n\u001b[0;32m      1\u001b[0m \u001b[1;31m### 변환이 안되는 경우\u001b[0m\u001b[1;33m\u001b[0m\u001b[1;33m\u001b[0m\u001b[1;33m\u001b[0m\u001b[0m\n\u001b[1;32m----> 2\u001b[1;33m \u001b[0marray4\u001b[0m \u001b[1;33m=\u001b[0m \u001b[0marray1\u001b[0m\u001b[1;33m.\u001b[0m\u001b[0mreshape\u001b[0m\u001b[1;33m(\u001b[0m\u001b[1;33m-\u001b[0m\u001b[1;36m1\u001b[0m\u001b[1;33m,\u001b[0m\u001b[1;36m4\u001b[0m\u001b[1;33m)\u001b[0m\u001b[1;33m\u001b[0m\u001b[1;33m\u001b[0m\u001b[0m\n\u001b[0m",
      "\u001b[1;31mValueError\u001b[0m: cannot reshape array of size 10 into shape (4)"
     ]
    }
   ],
   "source": [
    "### 변환이 안되는 경우\n",
    "array4 = array1.reshape(-1,4)"
   ]
  },
  {
   "cell_type": "code",
   "execution_count": 51,
   "id": "87bd204c",
   "metadata": {},
   "outputs": [
    {
     "name": "stdout",
     "output_type": "stream",
     "text": [
      "[[[0 1]\n",
      "  [2 3]]\n",
      "\n",
      " [[4 5]\n",
      "  [6 7]]]\n",
      "\n",
      "[[0]\n",
      " [1]\n",
      " [2]\n",
      " [3]\n",
      " [4]\n",
      " [5]\n",
      " [6]\n",
      " [7]]\n",
      "\n",
      "[[0]\n",
      " [1]\n",
      " [2]\n",
      " [3]\n",
      " [4]\n",
      " [5]\n",
      " [6]\n",
      " [7]]\n",
      "\n"
     ]
    }
   ],
   "source": [
    "### 3차원 ndarray를 1,2차원으로 변환해보기\n",
    "array1 = np.arange(8)\n",
    "array3d = array1.reshape((2,2,2))\n",
    "print(array3d)\n",
    "print()\n",
    "\n",
    "# 3차원 > 2차원\n",
    "array2d = array3d.reshape(-1,1)\n",
    "print(array2d)\n",
    "print()\n",
    "\n",
    "# 1차원 > 2차원\n",
    "array2d_2 = array1.reshape(-1,1)\n",
    "print(array2d_2)\n",
    "print()"
   ]
  },
  {
   "cell_type": "code",
   "execution_count": 54,
   "id": "7859c325",
   "metadata": {},
   "outputs": [
    {
     "name": "stdout",
     "output_type": "stream",
     "text": [
      "[0 1 2 3 4 5 6 7]\n"
     ]
    }
   ],
   "source": [
    "# 3차원 > 1차원\n",
    "array3to1 = array3d.reshape(-1,)\n",
    "print(array3to1)"
   ]
  },
  {
   "cell_type": "markdown",
   "id": "ef2a360f",
   "metadata": {},
   "source": [
    "### 인덱싱"
   ]
  },
  {
   "cell_type": "markdown",
   "id": "591b3894",
   "metadata": {},
   "source": [
    "- 특정 위치의 단일값 추출 : 원하는 위치의 인덱스 값을 지정하면 해당 위치의 데이터가 반환됩니다.\n",
    "- 슬라이싱 : 슬라이싱은 연속된 인덱스상의 ndarray를 추출하는 방식입니다. : 기호 사이에 시작 인덱스와 종료 인덱스를 표시하면 시작 인덱스에서 종료 인덱스-1 위치에 있는 ndarray를 반환합니다.\n",
    "- 팬시 인덱싱 : 일정한 인덱싱 집합을 리스트 또는 ndarray 형태로 지정해 해당 위치에 있는 ndarray를 반환합니다. (ex : array1[[2,4,7]])\n",
    "- **불린 인덱싱** : 특정 조건에 해당하는지 여부인 True/False 값 인덱싱 집합을 기반으로 True에 해당하는 인덱스 위치에 있는 ndarray를 반환합니다.(조건 필터링 및 추출)"
   ]
  },
  {
   "cell_type": "markdown",
   "id": "ed2a6519",
   "metadata": {},
   "source": [
    "##### 단일 인덱싱"
   ]
  },
  {
   "cell_type": "code",
   "execution_count": 3,
   "id": "bace908f",
   "metadata": {},
   "outputs": [
    {
     "name": "stdout",
     "output_type": "stream",
     "text": [
      "array1 : [1 2 3 4 5 6 7 8 9]\n",
      "value : 3\n",
      "value의 타입 : <class 'numpy.int32'>\n"
     ]
    }
   ],
   "source": [
    "array1 = np.arange(start= 1, stop = 10)\n",
    "print(\"array1 : {}\".format(array1))\n",
    "\n",
    "# index는 0부터 시작하므로 array1[2]는 3번째 index 위치의 데이터 값 의미\n",
    "value = array1[2]\n",
    "print(\"value : {}\".format(value))\n",
    "print(\"value의 타입 : {}\".format(type(value)))  ## 인덱싱은 차원을 줄여준다."
   ]
  },
  {
   "cell_type": "code",
   "execution_count": 8,
   "id": "83bf6c0b",
   "metadata": {},
   "outputs": [
    {
     "name": "stdout",
     "output_type": "stream",
     "text": [
      "맨 뒤의 값 : 9, 맨 뒤에서 두번째 값 : 8\n"
     ]
    }
   ],
   "source": [
    "## -인덱싱\n",
    "print(\"맨 뒤의 값 : {}, 맨 뒤에서 두번째 값 : {}\".format(array1[-1], array1[-2]))"
   ]
  },
  {
   "cell_type": "code",
   "execution_count": 11,
   "id": "f5229da8",
   "metadata": {},
   "outputs": [
    {
     "name": "stdout",
     "output_type": "stream",
     "text": [
      "[[1 2 3]\n",
      " [4 5 6]\n",
      " [7 8 9]]\n",
      "\n",
      "(row = 0, col = 0) index 가리키는 값 : 1\n",
      "(row = 0, col = 1) index 가리키는 값 : 2\n"
     ]
    }
   ],
   "source": [
    "## 2차원 인덱싱\n",
    "array1d = np.arange(start = 1, stop = 10)\n",
    "array2d = array1d.reshape(3,3)\n",
    "print(array2d)\n",
    "print()\n",
    "print(\"(row = 0, col = 0) index 가리키는 값 : {}\".format(array2d[0,0]))\n",
    "print(\"(row = 0, col = 1) index 가리키는 값 : {}\".format(array2d[0,1]))"
   ]
  },
  {
   "cell_type": "markdown",
   "id": "adf42bd8",
   "metadata": {},
   "source": [
    "##### 슬라이싱 인덱스"
   ]
  },
  {
   "cell_type": "code",
   "execution_count": 15,
   "id": "1cf9c332",
   "metadata": {},
   "outputs": [
    {
     "name": "stdout",
     "output_type": "stream",
     "text": [
      "array1 : [1 2 3 4 5 6 7 8 9]\n",
      "array3 : [1 2 3]\n",
      "array3의 타입 : <class 'numpy.ndarray'>\n"
     ]
    }
   ],
   "source": [
    "array1 = np.arange(start = 1, stop = 10)\n",
    "print(\"array1 : {}\".format(array1))\n",
    "\n",
    "array3 = array1 [0:3]\n",
    "print(\"array3 : {}\".format(array3))\n",
    "print(\"array3의 타입 : {}\".format(type(array3)))  ## 슬라이싱은 차원이 줄어들지 않는다."
   ]
  },
  {
   "cell_type": "code",
   "execution_count": 17,
   "id": "b0e7d815",
   "metadata": {},
   "outputs": [
    {
     "name": "stdout",
     "output_type": "stream",
     "text": [
      "[1 2 3]\n",
      "\n",
      "[4 5 6 7 8 9]\n",
      "\n",
      "[1 2 3 4 5 6 7 8 9]\n"
     ]
    }
   ],
   "source": [
    "# 위치 인덱스 0-2(2포함)까지 추출\n",
    "array4 = array1[0:3]\n",
    "print(array4)\n",
    "print()\n",
    "\n",
    "# 위치 인덱스 3부터 마지막까지 추출\n",
    "array5 = array1[3:]\n",
    "print(array5)\n",
    "print()\n",
    "\n",
    "# 위치 인덱스로 전체 데이터 추출\n",
    "array6 = array1[:]\n",
    "print(array6)"
   ]
  },
  {
   "cell_type": "code",
   "execution_count": 21,
   "id": "ceb5f37e",
   "metadata": {},
   "outputs": [
    {
     "name": "stdout",
     "output_type": "stream",
     "text": [
      "[[1 2 3]\n",
      " [4 5 6]\n",
      " [7 8 9]]\n",
      "\n",
      "array2d[0:2, 0:2] \n",
      " [[1 2]\n",
      " [4 5]]\n",
      "\n",
      "array2d[:2, 0] \n",
      " [1 4]\n"
     ]
    }
   ],
   "source": [
    "print(array2d)\n",
    "print()\n",
    "\n",
    "print(\"array2d[0:2, 0:2] \\n\", array2d[0:2, 0:2])\n",
    "print()\n",
    "print(\"array2d[:2, 0] \\n\", array2d[:2, 0])"
   ]
  },
  {
   "cell_type": "code",
   "execution_count": 22,
   "id": "93189f0b",
   "metadata": {},
   "outputs": [
    {
     "name": "stdout",
     "output_type": "stream",
     "text": [
      "[1 2 3]\n",
      "[4 5 6]\n"
     ]
    }
   ],
   "source": [
    "# 2차원 단일인덱싱 > 행만 추출\n",
    "print(array2d[0])\n",
    "print(array2d[1])"
   ]
  },
  {
   "cell_type": "markdown",
   "id": "50a2fead",
   "metadata": {},
   "source": [
    "##### 펜시 인덱싱"
   ]
  },
  {
   "cell_type": "code",
   "execution_count": 29,
   "id": "e75fd6ec",
   "metadata": {
    "scrolled": true
   },
   "outputs": [
    {
     "name": "stdout",
     "output_type": "stream",
     "text": [
      "[[1 2 3]\n",
      " [4 5 6]\n",
      " [7 8 9]]\n",
      "\n",
      "array2d[[0,1],2] :  [3 6]\n",
      "\n",
      "array2d[[0,2],:2] :  [[1 2]\n",
      " [7 8]]\n",
      "\n",
      "array2d[[0,2]] :  [[1 2 3]\n",
      " [7 8 9]]\n",
      "\n"
     ]
    }
   ],
   "source": [
    "array1d = np.arange(start = 1 , stop = 10)\n",
    "array2d = array1d.reshape(3,3)\n",
    "print(array2d)\n",
    "print()\n",
    "array3 = array2d[[0,1],2]\n",
    "print(\"array2d[[0,1],2] : \", array3)\n",
    "print()\n",
    "array4 = array2d[[0,2],:2]\n",
    "print(\"array2d[[0,2],:2] : \", array4)\n",
    "print()\n",
    "\n",
    "array5 = array2d[[0,2]]\n",
    "print(\"array2d[[0,2]] : \", array5)\n",
    "print()"
   ]
  },
  {
   "cell_type": "markdown",
   "id": "b1065d06",
   "metadata": {},
   "source": [
    "##### 불린 인덱싱"
   ]
  },
  {
   "cell_type": "code",
   "execution_count": 31,
   "id": "6c7742f1",
   "metadata": {},
   "outputs": [
    {
     "name": "stdout",
     "output_type": "stream",
     "text": [
      "[1 2 3 4 5 6 7 8 9]\n",
      "array1d>5 불린 인덱싱 결과 값 :  [6 7 8 9]\n"
     ]
    }
   ],
   "source": [
    "print(array1d)\n",
    "\n",
    "# [ ] 안에 array1d > 5 Boolean indexing을 적용\n",
    "array3 = array1d[array1d>5]\n",
    "print(\"array1d>5 불린 인덱싱 결과 값 : \", array3)"
   ]
  },
  {
   "cell_type": "code",
   "execution_count": 32,
   "id": "53523333",
   "metadata": {},
   "outputs": [
    {
     "data": {
      "text/plain": [
       "array([False, False, False, False, False,  True,  True,  True,  True])"
      ]
     },
     "execution_count": 32,
     "metadata": {},
     "output_type": "execute_result"
    }
   ],
   "source": [
    "array1d>5"
   ]
  },
  {
   "cell_type": "code",
   "execution_count": 33,
   "id": "c3d1ea6d",
   "metadata": {},
   "outputs": [
    {
     "name": "stdout",
     "output_type": "stream",
     "text": [
      "[False False False False False  True  True  True  True] <class 'numpy.ndarray'> (9,)\n"
     ]
    }
   ],
   "source": [
    "val = array1d>5\n",
    "print(val, type(val), val.shape)"
   ]
  },
  {
   "cell_type": "code",
   "execution_count": 34,
   "id": "da122d62",
   "metadata": {},
   "outputs": [
    {
     "name": "stdout",
     "output_type": "stream",
     "text": [
      "불리언 인덱스로 필터링 결과 : [6 7 8 9]\n"
     ]
    }
   ],
   "source": [
    "## true에 해당하는 index값만 저장해 값을 추출함\n",
    "boolean_indexes = np.array([False, False, False, False, False, True, True, True, True])\n",
    "array3 = array1d[boolean_indexes]\n",
    "print(\"불리언 인덱스로 필터링 결과 :\", array3)"
   ]
  },
  {
   "cell_type": "code",
   "execution_count": 35,
   "id": "51cbc920",
   "metadata": {},
   "outputs": [
    {
     "name": "stdout",
     "output_type": "stream",
     "text": [
      "일반 인덱스로 필터링 결과 :  [6 7 8 9]\n"
     ]
    }
   ],
   "source": [
    "## 일반 인덱스(펜시 인덱스)를 사용한 결과\n",
    "indexes = np.array([5,6,7,8])\n",
    "array4 = array1d[indexes]\n",
    "print(\"일반 인덱스로 필터링 결과 : \", array4)"
   ]
  },
  {
   "cell_type": "markdown",
   "id": "de30839a",
   "metadata": {},
   "source": [
    "### 배열의 정렬 - sort()와 argsort()"
   ]
  },
  {
   "cell_type": "markdown",
   "id": "b97ad8a5",
   "metadata": {},
   "source": [
    "##### 넘파이 sort() 유형\n",
    "- np.sort(ndarray) : 인자로 들어온 **원 행렬은 그대로 유지**한 채 원 행렬의 정렬된 행렬을 반환\n",
    "- ndarray.sort() : 원 행렬 자체를 정렬한 형태로 변환하며 반환값은 None\n",
    "- np.sort()나 ndarray.sort() 모두 기본적으로 오름차순으로 행렬 내 원소를 정렬합니다. 내림차순으로 정렬하기 위해서는 [::-1]을 적용합니다.(ex : np.sort()[::-1])"
   ]
  },
  {
   "cell_type": "markdown",
   "id": "15b853ff",
   "metadata": {},
   "source": [
    "##### 2차원 배열에서 axis 기반의 sort()\n",
    "- axis = 0인 경우 행을 정렬\n",
    "- axis = 1인 경우 열을 정렬"
   ]
  },
  {
   "cell_type": "markdown",
   "id": "4f1306cc",
   "metadata": {},
   "source": [
    "##### argsort()\n",
    "- 원본 행렬 정렬 시 정렬된 행렬의 원래 인덱스를 필요로 할 때 np.argsort()를 이용합니다. np.argsort()는 정렬 행렬의 **원본 행렬 인덱스**를 ndarray형으로 반환합니다."
   ]
  },
  {
   "cell_type": "markdown",
   "id": "104ed818",
   "metadata": {},
   "source": [
    "##### 실습"
   ]
  },
  {
   "cell_type": "code",
   "execution_count": 5,
   "id": "b6de04c7",
   "metadata": {},
   "outputs": [
    {
     "name": "stdout",
     "output_type": "stream",
     "text": [
      "원본 배열 :  [3 1 9 5]\n",
      "np.sort() 호출 후 반환된 정렬 배열 :  [1 3 5 9]\n",
      "np.sort() 호출 후 원본 배열 :  [3 1 9 5]\n",
      "ndarray.sort() 호출 후 반환된 정렬 배열 :  None\n",
      "ndarray.sort() 호출 후 원본 배열:  [1 3 5 9]\n"
     ]
    }
   ],
   "source": [
    "### 넘파이 sort\n",
    "org_array = np.array([3,1,9,5])\n",
    "print(\"원본 배열 : \", org_array)\n",
    "\n",
    "# np.sort()로 정렬\n",
    "sort_array1 = np.sort(org_array)\n",
    "print(\"np.sort() 호출 후 반환된 정렬 배열 : \", sort_array1)\n",
    "print(\"np.sort() 호출 후 원본 배열 : \", org_array)\n",
    "\n",
    "# ndarray.sort()로 정렬\n",
    "sort_array2 = org_array.sort()\n",
    "print(\"ndarray.sort() 호출 후 반환된 정렬 배열 : \", sort_array2)  ### ndarray.sort()의 경우 반환되는 값이 없다.\n",
    "print(\"ndarray.sort() 호출 후 원본 배열: \", org_array)"
   ]
  },
  {
   "cell_type": "code",
   "execution_count": 11,
   "id": "6a3f4a74",
   "metadata": {},
   "outputs": [
    {
     "name": "stdout",
     "output_type": "stream",
     "text": [
      "내림차순으로 정렬 :  [9 5 3 1]\n"
     ]
    }
   ],
   "source": [
    "### 내림차순의 정렬\n",
    "sort_array_desc1 = np.sort(org_array)[::-1]\n",
    "print(\"내림차순으로 정렬 : \", sort_array_desc1)"
   ]
  },
  {
   "cell_type": "code",
   "execution_count": 16,
   "id": "14d24e8a",
   "metadata": {},
   "outputs": [
    {
     "name": "stdout",
     "output_type": "stream",
     "text": [
      "로우 방향으로 정렬 :\n",
      " [[ 7  1]\n",
      " [ 8 12]]\n",
      "컬럼 방향으로 정렬 :\n",
      " [[ 1  8]\n",
      " [ 7 12]]\n"
     ]
    }
   ],
   "source": [
    "### 2차원 배열의 정렬\n",
    "array2d = np.array([[8, 1],\n",
    "                   [7, 12]])\n",
    "\n",
    "sort_array2d_axis0 = np.sort(array2d, axis = 0)  ## array2d.sort(axis = 0)으로도 가능\n",
    "print(\"로우 방향으로 정렬 :\\n\", sort_array2d_axis0)\n",
    "\n",
    "sort_array2d_axis1 = np.sort(array2d, axis = 1)\n",
    "print(\"컬럼 방향으로 정렬 :\\n\", sort_array2d_axis1)"
   ]
  },
  {
   "cell_type": "code",
   "execution_count": 17,
   "id": "19b64304",
   "metadata": {},
   "outputs": [
    {
     "name": "stdout",
     "output_type": "stream",
     "text": [
      "<class 'numpy.ndarray'>\n",
      "행렬 정렬 시 원본 배열의 인덱스 :  [1 0 3 2]\n"
     ]
    }
   ],
   "source": [
    "### argsort : 정렬 행렬의 인덱스 반환\n",
    "org_array = np.array([3,1,9,5])\n",
    "sort_indices = np.argsort(org_array)\n",
    "print(type(sort_indices))\n",
    "print(\"행렬 정렬 시 원본 배열의 인덱스 : \", sort_indices)"
   ]
  },
  {
   "cell_type": "code",
   "execution_count": 19,
   "id": "85ba086c",
   "metadata": {},
   "outputs": [
    {
     "name": "stdout",
     "output_type": "stream",
     "text": [
      "<class 'numpy.ndarray'>\n",
      "행렬 내림차순 정렬시 원본 배열의 인덱스 :  [2 3 0 1]\n"
     ]
    }
   ],
   "source": [
    "### argsort : 정렬 행렬의 인덱스 반환(내림차순)\n",
    "sort_indices_desc = np.argsort(org_array)[::-1] ### org_array.argsort()도 가능\n",
    "print(type(sort_indices_desc))\n",
    "print(\"행렬 내림차순 정렬시 원본 배열의 인덱스 : \", sort_indices_desc)"
   ]
  },
  {
   "cell_type": "code",
   "execution_count": 9,
   "id": "22ea22a3",
   "metadata": {},
   "outputs": [
    {
     "name": "stdout",
     "output_type": "stream",
     "text": [
      "성적 오름차순 정렬 시 score_array의 인덱스 :  [0 2 4 1 3]\n",
      "성적 오름차순으로 name_array의 이름 출력 :  ['jhon' 'sarah' 'samuel' 'mike' 'kate']\n"
     ]
    }
   ],
   "source": [
    "### argsort 적용\n",
    "import numpy as np\n",
    "\n",
    "name_array = np.array([\"jhon\", \"mike\" , 'sarah', 'kate', 'samuel'])\n",
    "score_array = np.array([78, 95, 84, 98, 88])\n",
    "\n",
    "sort_indices_asc = np.argsort(score_array)\n",
    "print(\"성적 오름차순 정렬 시 score_array의 인덱스 : \", sort_indices_asc)\n",
    "print(\"성적 오름차순으로 name_array의 이름 출력 : \", name_array[sort_indices_asc])"
   ]
  },
  {
   "cell_type": "markdown",
   "id": "1ad5a0d6",
   "metadata": {},
   "source": [
    "### 선형대수 연산 - 행렬 내적과 전치 행렬 구하기"
   ]
  },
  {
   "cell_type": "code",
   "execution_count": 10,
   "id": "8caa1001",
   "metadata": {},
   "outputs": [
    {
     "name": "stdout",
     "output_type": "stream",
     "text": [
      "행렬 내적 결과 : \n",
      " [[ 58  64]\n",
      " [139 154]]\n"
     ]
    }
   ],
   "source": [
    "### 행렬 내적\n",
    "a = np.array([[1,2,3],\n",
    "             [4,5,6]])\n",
    "b = np.array([[7,8],\n",
    "             [9,10],\n",
    "             [11, 12]])\n",
    "\n",
    "dot_prd = np.dot(a,b)\n",
    "print(\"행렬 내적 결과 : \\n\", dot_prd)"
   ]
  },
  {
   "cell_type": "code",
   "execution_count": 15,
   "id": "3bf4e029",
   "metadata": {},
   "outputs": [
    {
     "name": "stdout",
     "output_type": "stream",
     "text": [
      "원래 a 행렬 :\n",
      " [[1 2 3]\n",
      " [4 5 6]]\n",
      "\n",
      "a의 전치 행렬 : \n",
      " [[1 4]\n",
      " [2 5]\n",
      " [3 6]]\n"
     ]
    }
   ],
   "source": [
    "### 전치 행렬 구하기\n",
    "transpose_mat = np.transpose(a)\n",
    "print(\"원래 a 행렬 :\\n\", a)\n",
    "print()\n",
    "print(\"a의 전치 행렬 : \\n\", transpose_mat)"
   ]
  }
 ],
 "metadata": {
  "kernelspec": {
   "display_name": "Python 3",
   "language": "python",
   "name": "python3"
  },
  "language_info": {
   "codemirror_mode": {
    "name": "ipython",
    "version": 3
   },
   "file_extension": ".py",
   "mimetype": "text/x-python",
   "name": "python",
   "nbconvert_exporter": "python",
   "pygments_lexer": "ipython3",
   "version": "3.8.8"
  }
 },
 "nbformat": 4,
 "nbformat_minor": 5
}
