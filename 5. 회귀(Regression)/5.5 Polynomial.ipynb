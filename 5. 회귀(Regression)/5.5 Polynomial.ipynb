{
 "cells": [
  {
   "cell_type": "markdown",
   "metadata": {},
   "source": [
    "# Polynomial Regression을 이용한 Underfitting, Overfitting 이해"
   ]
  },
  {
   "cell_type": "markdown",
   "metadata": {},
   "source": [
    "### 다항회귀 개요(Polynomial Regression)\n",
    "- 다항회귀 $y = w0+w1*x_{1}+w2*x_{2} + w3*x_{1}*x_{2} + w4*x_{1}^{2}$와 같이 회귀식이 독립변수의 단항식이 아닌 2차, 3차 방정식과 같은 다항식으로 표현되는 것을 지칭합니다.-\n",
    "- 데이터 세트에 대해서 피처 X에 대해 Target y값의 관계를 단순 선ㅅ형 회귀 직선형으로 표현한 것보다 다항 회귀 곡선형으로 표현한 것이 더 예측 성능이 높습니다.\n"
   ]
  },
  {
   "cell_type": "markdown",
   "metadata": {},
   "source": [
    "## 선형 회귀와 비선형 회귀의 구분\n",
    "- 다항회귀는 선형회귀 입니다.\n",
    "- 회귀에서 선형 회귀/비선형 회귀를 나누는 기준은 **회귀 계수**가 선형/비선형인지에 따르며, 독립변수의 선형/비선형 여부와는 무관합니다.\n",
    "    - 선형 회귀 예시 \n",
    "        - $y = w0+w1*x_{1}+w2*x_{2} + w3*x_{1}*x_{2} + w4*x_{1}^{2}$\n",
    "    - 비선형 회귀 예시 \n",
    "        - $y = w_{1}*x^{w_{2}}$\n",
    "        - $y = w_{1}*cos(x+w_{4})+w_{2}*cos(2x+4)+w_{3}$"
   ]
  },
  {
   "cell_type": "markdown",
   "metadata": {},
   "source": [
    "## 사이킷런에서의 다항 회귀\n",
    "- 사이킷런은 다항회귀를 바로 API로 제공하지 않으며, PolynomialFeatures 클래스로 원본 단항 피처들을 다항 피처들로 변환한 데이터 세트에 LinearRegression 객체를 적용하여 다항회귀 기능을 제공합니다.\n",
    "- PolynomialFeatures : 원본 피처 데이터 세트를 기반으로 degree 차수에 따른 다항식을 적용하여 새로운 피처들을 생성하는 클래스 피처 엔지니어링의 기법중의 하나임.\n",
    "- 단항 피처 $[x_{1}, x_{2}]$를 degree = 2, 즉 2차 다항 피처로 변환한다면?\n",
    "    - $(x_{1}+x_{2})^{2}$의 식 전개에 대응되는 $[1, x_{1}, x_{2}, x_{1}x_{2}, x_{1}^{2}, x_{2}^{2}]$의 다항 피처들로 변환\n",
    "    - 1차 단항 피처 값이 $[x_{1}, x_{2}]$ = [0, 1]일 경우 -> 2차 다항피처들의 값은 [1, 0, 1, 0, 0, 1]로 변환\n",
    "- 사이킷런에서는 일반적으로 Pipeline 클래스를 이용하여 PolynomialFeatures 변환과 LinearRegression 학습/예측을 결합하여 다항 회귀를 구현합니다.\n",
    "    - 단항 피처를 2차 다항 피처로 변경 -> PolynomialFeature로 변환된 X 피처들을 LinearRegression 객체로 학습"
   ]
  },
  {
   "cell_type": "code",
   "execution_count": null,
   "metadata": {},
   "outputs": [],
   "source": [
    "### 실습하자~!"
   ]
  },
  {
   "cell_type": "code",
   "execution_count": null,
   "metadata": {},
   "outputs": [],
   "source": []
  },
  {
   "cell_type": "code",
   "execution_count": null,
   "metadata": {},
   "outputs": [],
   "source": []
  },
  {
   "cell_type": "code",
   "execution_count": null,
   "metadata": {},
   "outputs": [],
   "source": []
  },
  {
   "cell_type": "code",
   "execution_count": null,
   "metadata": {},
   "outputs": [],
   "source": []
  },
  {
   "cell_type": "code",
   "execution_count": null,
   "metadata": {},
   "outputs": [],
   "source": []
  },
  {
   "cell_type": "code",
   "execution_count": null,
   "metadata": {},
   "outputs": [],
   "source": []
  },
  {
   "cell_type": "code",
   "execution_count": null,
   "metadata": {},
   "outputs": [],
   "source": []
  },
  {
   "cell_type": "code",
   "execution_count": null,
   "metadata": {},
   "outputs": [],
   "source": []
  },
  {
   "cell_type": "code",
   "execution_count": null,
   "metadata": {},
   "outputs": [],
   "source": []
  },
  {
   "cell_type": "code",
   "execution_count": null,
   "metadata": {},
   "outputs": [],
   "source": []
  },
  {
   "cell_type": "code",
   "execution_count": null,
   "metadata": {},
   "outputs": [],
   "source": []
  }
 ],
 "metadata": {
  "language_info": {
   "name": "python"
  }
 },
 "nbformat": 4,
 "nbformat_minor": 2
}
